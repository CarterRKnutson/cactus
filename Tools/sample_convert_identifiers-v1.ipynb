{
 "cells": [
  {
   "cell_type": "code",
   "execution_count": 3,
   "id": "d804b94f",
   "metadata": {},
   "outputs": [
    {
     "name": "stdout",
     "output_type": "stream",
     "text": [
      "Collecting pubchempy\n",
      "  Downloading PubChemPy-1.0.4.tar.gz (29 kB)\n",
      "  Preparing metadata (setup.py) ... \u001b[?25ldone\n",
      "\u001b[?25hBuilding wheels for collected packages: pubchempy\n",
      "  Building wheel for pubchempy (setup.py) ... \u001b[?25ldone\n",
      "\u001b[?25h  Created wheel for pubchempy: filename=PubChemPy-1.0.4-py3-none-any.whl size=13819 sha256=cb2730a55318f069c3330959aeaa2af5f403540fde917d609a87a4f69a946d4e\n",
      "  Stored in directory: /Users/sank064/Library/Caches/pip/wheels/90/7c/45/18a0671e3c3316966ef7ed9ad2b3f3300a7e41d3421a44e799\n",
      "Successfully built pubchempy\n",
      "Installing collected packages: pubchempy\n",
      "Successfully installed pubchempy-1.0.4\n"
     ]
    }
   ],
   "source": [
    "!pip install pubchempy"
   ]
  },
  {
   "cell_type": "code",
   "execution_count": 7,
   "id": "dc823449",
   "metadata": {},
   "outputs": [],
   "source": [
    "import pubchempy as pcp"
   ]
  },
  {
   "cell_type": "code",
   "execution_count": 8,
   "id": "382a5256",
   "metadata": {},
   "outputs": [],
   "source": [
    "def common_name_to_SMILES(input_name: str)-> str:\n",
    "\n",
    "    if(isinstance(input_name,str)):\n",
    "        result=pcp.get_compounds(str(input_name),'name')[0]\n",
    "        #print (result)\n",
    "        return result.isomeric_smiles\n",
    "    else:\n",
    "        raise ValueError(\"Invalid input\")\n",
    "    "
   ]
  },
  {
   "cell_type": "code",
   "execution_count": 9,
   "id": "c8f14bc8",
   "metadata": {},
   "outputs": [],
   "source": [
    "def name_to_SMILES(input_name: str)-> str:\n",
    "#checking if the input is a string variable or not\n",
    "    if(isinstance(input_name,str)):\n",
    "#checking for the first compund with the given input name\n",
    "        result=pcp.get_compounds(str(input_name),'name')[0]\n",
    "        #print (result)\n",
    "        return result.isomeric_smiles\n",
    "    else:\n",
    "#if the input is not a string error will be raised\n",
    "        raise ValueError(\"Invalid input\")\n",
    "    \n"
   ]
  },
  {
   "cell_type": "code",
   "execution_count": 10,
   "id": "cc4e7069",
   "metadata": {},
   "outputs": [
    {
     "ename": "SyntaxError",
     "evalue": "invalid syntax (3209470355.py, line 7)",
     "output_type": "error",
     "traceback": [
      "\u001b[0;36m  Cell \u001b[0;32mIn[10], line 7\u001b[0;36m\u001b[0m\n\u001b[0;31m    get_cid(\"input_query\", from = \"xref/RN\")\u001b[0m\n\u001b[0m                           ^\u001b[0m\n\u001b[0;31mSyntaxError\u001b[0m\u001b[0;31m:\u001b[0m invalid syntax\n"
     ]
    }
   ],
   "source": [
    "def cas_to_SMILES(input_query: str)-> str:\n",
    "\n",
    "    if(isinstance(input_query,str)):\n",
    "         result=pcp.get_compounds(str(input_query),'name')[0]\n",
    "         #print (result)\n",
    "         return result\n",
    "#         get_cid(\"input_query\", from = \"xref/RN\")\n",
    "#         return pc_sect(702,\"canonical smiles\")\n",
    "    else:\n",
    "        raise ValueError(\"Invalid input\")\n",
    "    "
   ]
  },
  {
   "cell_type": "code",
   "execution_count": null,
   "id": "59d6f689",
   "metadata": {},
   "outputs": [],
   "source": [
    "def chemblid_to_smiles(input_id: str)-> str:\n",
    "    \n",
    "    if(isinstance(input_id,str)):\n",
    "        from chembl_webresource_client.new_client import new_client\n",
    "        molecule = new_client.molecule\n",
    "        molecule.set_format('json')\n",
    "        record_via_client = molecule.get(input_id)\n",
    "        smiles_from_json = record_via_client['molecule_structures']['canonical_smiles']\n",
    "        return smiles_from_json\n",
    "    else:\n",
    "        raise ValueError(\"Invalid input\")\n",
    "    "
   ]
  },
  {
   "cell_type": "code",
   "execution_count": null,
   "id": "0c6d228d",
   "metadata": {},
   "outputs": [],
   "source": []
  },
  {
   "cell_type": "code",
   "execution_count": 11,
   "id": "ca3d21b9",
   "metadata": {},
   "outputs": [],
   "source": [
    "def cid_to_SMILES(input_id: int)-> str:\n",
    "#checking if the input is a integer variable or not\n",
    "    if(isinstance(input_id,int)):\n",
    "        result=pcp.Compound.from_cid(int(input_id))\n",
    "        #print (result)\n",
    "        return result.isomeric_smiles\n",
    "    else:\n",
    "#if the input is not a string error will be raised\n",
    "        raise ValueError(\"Invalid input\")\n",
    "    "
   ]
  },
  {
   "cell_type": "code",
   "execution_count": 12,
   "id": "7ce5cb05",
   "metadata": {},
   "outputs": [],
   "source": [
    "def molecular_formula_to_SMILES(input_formula: str)-> str:\n",
    "#checking if the input is a string variable or not\n",
    "    if(isinstance(input_formula,str)):\n",
    "#checking for the first compund with the given molecular formula\n",
    "        result=pcp.get_compounds(str(input_formula),'formula')[0]\n",
    "        #print (result)\n",
    "        return result.isomeric_smiles\n",
    "    else:\n",
    "#if the input is not a string error will be raised\n",
    "        raise ValueError(\"Invalid input\")"
   ]
  },
  {
   "cell_type": "code",
   "execution_count": null,
   "id": "81f9da55",
   "metadata": {},
   "outputs": [],
   "source": [
    "def zinc_id_to_SMILES(input_id: str)-> str:\n",
    "    #checking if the input is a string variable or not\n",
    "    import smilite\n",
    "    if(isinstance(input_id,str)):\n",
    "#checking for the first compund with the given molecular formula\n",
    "        smile_str = smilite.get_zinc_smile(input_id, backend='zinc15')\n",
    "        #print (result)\n",
    "        return smile_str\n",
    "    else:\n",
    "#if the input is not a string error will be raised\n",
    "        raise ValueError(\"Invalid input\")"
   ]
  },
  {
   "cell_type": "code",
   "execution_count": 20,
   "id": "d556dd93",
   "metadata": {},
   "outputs": [
    {
     "name": "stdout",
     "output_type": "stream",
     "text": [
      "Enter the query 113-98-4\n",
      "CC1([C@@H](N2[C@H](S1)[C@@H](C2=O)NC(=O)CC3=CC=CC=C3)C(=O)[O-])C.[K+]\n"
     ]
    }
   ],
   "source": [
    "\n",
    "#i1=int(input(\"Enter the query \"))\n",
    "\n",
    "i2=input(\"Enter the query \")\n",
    "#k=common_name_to_SMILES(i1)\n",
    "#l=iupac_name_to_SMILES(i1)\n",
    "m=common_name_to_SMILES(i2)\n",
    "#o=cid_to_SMILES(i1)\n",
    "#p=molecular_formula_to_SMILES(i2)\n",
    "print(m)"
   ]
  },
  {
   "cell_type": "code",
   "execution_count": 6,
   "id": "ea9e3bff",
   "metadata": {},
   "outputs": [],
   "source": [
    "from chembl_webresource_client import *"
   ]
  },
  {
   "cell_type": "code",
   "execution_count": 23,
   "id": "2a2e63cf",
   "metadata": {
    "scrolled": true
   },
   "outputs": [
    {
     "name": "stdout",
     "output_type": "stream",
     "text": [
      "Requirement already satisfied: chembl_webresource_client in ./miniconda3/lib/python3.10/site-packages (0.10.8)\n",
      "Requirement already satisfied: easydict in ./miniconda3/lib/python3.10/site-packages (from chembl_webresource_client) (1.10)\n",
      "Requirement already satisfied: requests-cache~=0.7.0 in ./miniconda3/lib/python3.10/site-packages (from chembl_webresource_client) (0.7.5)\n",
      "Requirement already satisfied: requests>=2.18.4 in ./miniconda3/lib/python3.10/site-packages (from chembl_webresource_client) (2.28.1)\n",
      "Requirement already satisfied: urllib3 in ./miniconda3/lib/python3.10/site-packages (from chembl_webresource_client) (1.26.15)\n",
      "Requirement already satisfied: idna<4,>=2.5 in ./miniconda3/lib/python3.10/site-packages (from requests>=2.18.4->chembl_webresource_client) (3.4)\n",
      "Requirement already satisfied: charset-normalizer<3,>=2 in ./miniconda3/lib/python3.10/site-packages (from requests>=2.18.4->chembl_webresource_client) (2.0.4)\n",
      "Requirement already satisfied: certifi>=2017.4.17 in ./miniconda3/lib/python3.10/site-packages (from requests>=2.18.4->chembl_webresource_client) (2023.5.7)\n",
      "Requirement already satisfied: url-normalize<2.0,>=1.4 in ./miniconda3/lib/python3.10/site-packages (from requests-cache~=0.7.0->chembl_webresource_client) (1.4.3)\n",
      "Requirement already satisfied: itsdangerous>=2.0.1 in ./miniconda3/lib/python3.10/site-packages (from requests-cache~=0.7.0->chembl_webresource_client) (2.1.2)\n",
      "Requirement already satisfied: attrs<22.0,>=21.2 in ./miniconda3/lib/python3.10/site-packages (from requests-cache~=0.7.0->chembl_webresource_client) (21.4.0)\n",
      "Requirement already satisfied: pyyaml>=5.4 in ./miniconda3/lib/python3.10/site-packages (from requests-cache~=0.7.0->chembl_webresource_client) (6.0)\n",
      "Requirement already satisfied: six in ./miniconda3/lib/python3.10/site-packages (from url-normalize<2.0,>=1.4->requests-cache~=0.7.0->chembl_webresource_client) (1.16.0)\n",
      "Note: you may need to restart the kernel to use updated packages.\n"
     ]
    }
   ],
   "source": [
    "pip install chembl_webresource_client"
   ]
  },
  {
   "cell_type": "code",
   "execution_count": 2,
   "id": "f84a500e",
   "metadata": {
    "scrolled": false
   },
   "outputs": [
    {
     "name": "stdout",
     "output_type": "stream",
     "text": [
      "['activity', 'activity_supplementary_data_by_activity', 'assay', 'assay_class', 'atc_class', 'binding_site', 'biotherapeutic', 'cell_line', 'chembl_id_lookup', 'compound_record', 'compound_structural_alert', 'description', 'document', 'document_similarity', 'drug', 'drug_indication', 'drug_warning', 'go_slim', 'image', 'mechanism', 'metabolism', 'molecule', 'molecule_form', 'official', 'organism', 'protein_classification', 'similarity', 'source', 'substructure', 'target', 'target_component', 'target_relation', 'tissue', 'xref_source']\n"
     ]
    }
   ],
   "source": [
    "from chembl_webresource_client.new_client import new_client\n",
    "\n",
    "available_resources = [resource for resource in dir(new_client) if not resource.startswith('_')]\n",
    "print(available_resources)"
   ]
  },
  {
   "cell_type": "code",
   "execution_count": 3,
   "id": "6cb824a3",
   "metadata": {},
   "outputs": [],
   "source": [
    "molecule = new_client.molecule\n",
    "molecule.set_format('json')"
   ]
  },
  {
   "cell_type": "code",
   "execution_count": 4,
   "id": "a51b992b",
   "metadata": {},
   "outputs": [
    {
     "name": "stdout",
     "output_type": "stream",
     "text": [
      "Enter the chembl_idCHEMBL25\n"
     ]
    }
   ],
   "source": [
    "chembl_id=input(\"Enter the chembl_id\")"
   ]
  },
  {
   "cell_type": "code",
   "execution_count": 5,
   "id": "07e1e16e",
   "metadata": {},
   "outputs": [],
   "source": [
    "record_via_client = molecule.get(chembl_id)"
   ]
  },
  {
   "cell_type": "code",
   "execution_count": 6,
   "id": "431561f2",
   "metadata": {},
   "outputs": [],
   "source": [
    "smiles_from_json = record_via_client['molecule_structures']['canonical_smiles']"
   ]
  },
  {
   "cell_type": "code",
   "execution_count": 7,
   "id": "dad05f22",
   "metadata": {},
   "outputs": [
    {
     "name": "stdout",
     "output_type": "stream",
     "text": [
      "CC(=O)Oc1ccccc1C(=O)O\n"
     ]
    }
   ],
   "source": [
    "print(smiles_from_json)"
   ]
  },
  {
   "cell_type": "code",
   "execution_count": 8,
   "id": "051b1c6e",
   "metadata": {},
   "outputs": [
    {
     "name": "stdout",
     "output_type": "stream",
     "text": [
      "Collecting smilite\n",
      "  Downloading smilite-2.3.0-py2.py3-none-any.whl (18 kB)\n",
      "Collecting PyPrind>=2.3.1\n",
      "  Downloading PyPrind-2.11.3-py2.py3-none-any.whl (8.4 kB)\n",
      "Installing collected packages: PyPrind, smilite\n",
      "Successfully installed PyPrind-2.11.3 smilite-2.3.0\n",
      "Note: you may need to restart the kernel to use updated packages.\n"
     ]
    }
   ],
   "source": [
    "pip install smilite"
   ]
  },
  {
   "cell_type": "code",
   "execution_count": 1,
   "id": "0d303587",
   "metadata": {},
   "outputs": [
    {
     "name": "stdout",
     "output_type": "stream",
     "text": [
      "python3: can't open file '/Users/sank064/lookup_smile_str.py': [Errno 2] No such file or directory\r\n"
     ]
    }
   ],
   "source": [
    "!python3 lookup_smile_str.py ZINC03833800"
   ]
  },
  {
   "cell_type": "code",
   "execution_count": 5,
   "id": "48b840ee",
   "metadata": {},
   "outputs": [
    {
     "name": "stdout",
     "output_type": "stream",
     "text": [
      "Enter idZINC03833800\n"
     ]
    }
   ],
   "source": [
    "import smilite\n",
    "zinc_id=input(\"Enter id\")"
   ]
  },
  {
   "cell_type": "code",
   "execution_count": 6,
   "id": "e56f8c30",
   "metadata": {},
   "outputs": [],
   "source": [
    "smile_str = smilite.get_zinc_smile(zinc_id, backend='zinc15')"
   ]
  },
  {
   "cell_type": "code",
   "execution_count": 7,
   "id": "2f9ca06c",
   "metadata": {},
   "outputs": [
    {
     "name": "stdout",
     "output_type": "stream",
     "text": [
      "OC[C@H]1O[C@@H](O)[C@H](O)[C@@H](O)[C@@H]1O\n"
     ]
    }
   ],
   "source": [
    "print(smile_str)"
   ]
  },
  {
   "cell_type": "code",
   "execution_count": null,
   "id": "ada4f9bd",
   "metadata": {},
   "outputs": [],
   "source": []
  }
 ],
 "metadata": {
  "kernelspec": {
   "display_name": "Python 3 (ipykernel)",
   "language": "python",
   "name": "python3"
  },
  "language_info": {
   "codemirror_mode": {
    "name": "ipython",
    "version": 3
   },
   "file_extension": ".py",
   "mimetype": "text/x-python",
   "name": "python",
   "nbconvert_exporter": "python",
   "pygments_lexer": "ipython3",
   "version": "3.10.10"
  }
 },
 "nbformat": 4,
 "nbformat_minor": 5
}
