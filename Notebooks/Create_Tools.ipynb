{
 "cells": [
  {
   "cell_type": "code",
   "execution_count": 1,
   "id": "480052eb-9ef9-47fb-9a2f-fa1729a26264",
   "metadata": {},
   "outputs": [],
   "source": [
    "from rdkit.Chem import MolFromSmiles, MolToSmiles, Descriptors\n",
    "from rdkit.ML.Descriptors import MoleculeDescriptors\n",
    "from Levenshtein import distance as lev # pip install python-Levenshtein\n",
    "from langchain.agents import Tool\n",
    "import pubchempy"
   ]
  },
  {
   "cell_type": "code",
   "execution_count": 2,
   "id": "50763ea1-469d-47c0-a8a5-d4809a3a3d6c",
   "metadata": {},
   "outputs": [
    {
     "name": "stdout",
     "output_type": "stream",
     "text": [
      "canon SMILES is the closest to cid\n",
      "iupac is the closest to inchi\n",
      "Count Heavy Atoms is the closest to NumHeteroatoms\n"
     ]
    }
   ],
   "source": [
    "def levenshtein(items: list, query: str) -> str:\n",
    "    '''\n",
    "    Given a list of strings\n",
    "    and a query,\n",
    "    return the list item with the smallest Levenshtein distance\n",
    "\n",
    "    parameters:\n",
    "        items: list of strings\n",
    "        query: target string\n",
    "\n",
    "    returns:\n",
    "        closest string from the given list\n",
    "    '''\n",
    "    items_post = [s.replace(\" \", \"\") for s in items] # ignore spaces\n",
    "    lev_list = [lev(item,query, weights=(1,1,1)) for item in items_post] # get distances\n",
    "    \n",
    "    return items[lev_list.index(min(lev_list))] # return closest\n",
    "\n",
    "x = ['iupac_name', 'cid', 'cactvs_fingerprint', 'canonical_smiles', 'inchi']\n",
    "query = \"canon SMILES\"\n",
    "print(query,'is the closest to',levenshtein(x,query))\n",
    "\n",
    "query = \"iupac\"\n",
    "print(query,'is the closest to',levenshtein(x,query))\n",
    "\n",
    "x = [x[0] for x in Descriptors.descList[:124]]\n",
    "query = \"Count Heavy Atoms\"\n",
    "print(query,'is the closest to',levenshtein(x,query))"
   ]
  },
  {
   "cell_type": "code",
   "execution_count": 3,
   "id": "25ceca1b-2c49-4359-b0c7-95bbc0ef55f0",
   "metadata": {},
   "outputs": [
    {
     "name": "stdout",
     "output_type": "stream",
     "text": [
      "Calculating ['MolWt', 'HeavyAtomCount', 'NumHAcceptors']\n",
      "Atorvastatin has 558.65 ExactMolWt, 41 HeavyAtomCount, and 5 Hydrogen Acceptors\n"
     ]
    }
   ],
   "source": [
    "def calculate_descriptors(compound: str, descriptors: list) -> list:\n",
    "    '''\n",
    "    Given a SMILES string and chosen descriptor(s),\n",
    "    return the value for each descriptor\n",
    "\n",
    "    parameters:\n",
    "        compound: a chemical compound in SMILES format\n",
    "        descriptors: a list of RDKit-compatible descriptors\n",
    "\n",
    "    returns:\n",
    "        list of computed properties\n",
    "    '''\n",
    "    all_compatible = [x[0] for x in Descriptors.descList[:124]]\n",
    "    descriptors   = [levenshtein(all_compatible, x) for x in descriptors]\n",
    "    print(f\"Calculating {descriptors}\")\n",
    "    \n",
    "    calc = MoleculeDescriptors.MolecularDescriptorCalculator(descriptors)\n",
    "    mol  = MolFromSmiles(compound)\n",
    "    \n",
    "    return list(calc.CalcDescriptors(mol)) # convert to list form\n",
    "\n",
    "Calculate_Descriptors = Tool(\n",
    "    name=\"calculate_descriptors\",\n",
    "    func=calculate_descriptors,\n",
    "    description=\"\"\"calculates chosen descriptors for a smiles. input should be json in the following format: `{{\"compound\":'<compound_smiles>', \"descriptors\":'[<descriptor_list>]'}}`\"\"\"\n",
    ")\n",
    "\n",
    "x = calculate_descriptors('CC(C)c1c(C(=O)Nc2ccccc2)c(-c2ccccc2)c(-c2ccc(F)cc2)n1CC[C@@H](O)C[C@@H](O)CC(=O)O',\n",
    "                         ['Molar Weight', 'Heavy Atom Count', 'Number of Hydrogen Acceptors'])\n",
    "print(f\"Atorvastatin has {round(x[0],2)} ExactMolWt, {round(x[1],2)} HeavyAtomCount, and {round(x[2],2)} Hydrogen Acceptors\")"
   ]
  },
  {
   "cell_type": "code",
   "execution_count": 4,
   "id": "acc94287-d18c-4c0d-b417-50ff45f15fad",
   "metadata": {},
   "outputs": [
    {
     "name": "stdout",
     "output_type": "stream",
     "text": [
      "Converting name to canonical_smiles\n",
      "Atorvastatin in SMILES format is CC(C)C1=C(C(=C(N1CCC(CC(CC(=O)O)O)O)C2=CC=C(C=C2)F)C3=CC=CC=C3)C(=O)NC4=CC=CC=C4\n"
     ]
    }
   ],
   "source": [
    "def convert_names(input_name: str, input_type: str, output_type: str) -> str:\n",
    "    '''\n",
    "    Given any compatible name\n",
    "    and its type (anything from pubchem lowercase and using _ for space),\n",
    "    return a different, chosen name.\n",
    "\n",
    "    parameters:\n",
    "        input_name: Any compatible name for a chemical compound\n",
    "        input_type: The type of the inputted name\n",
    "        output_type: The type of name for the output\n",
    "\n",
    "    returns:\n",
    "        a string with the desired chemical name\n",
    "    '''\n",
    "    all_compatible = ['name', 'canonical_smiles', 'inchi', 'inchikey', 'isomeric_smiles', \n",
    "                      'iupac_name', 'cid', 'cactvs_fingerprint', 'molecular_formula']\n",
    "    input_type  = levenshtein(all_compatible, input_type)\n",
    "    output_type = levenshtein(all_compatible, output_type)\n",
    "    print(f\"Converting {input_type} to {output_type}\")\n",
    "    \n",
    "    if input_type[-7:] in ['_smiles','formula']: return # smiles search isn't working, and formula is not unique\n",
    "    elif input_type == 'CID': compound = pubchempy.Compound.from_cid(int(input_name)) # directly instantiate\n",
    "    else: compound = pubchempy.get_compounds(input_name,input_type)[0] # get first entry\n",
    "\n",
    "    if output_type == 'name': return getattr(compound, 'synonyms')[0] # get first, common synonym\n",
    "    return getattr(compound, output_type) # equivalent to compound.canonical_smiles or other types\n",
    "\n",
    "Convert_Names = Tool(\n",
    "    name=\"convert_names\",\n",
    "    func=convert_names,\n",
    "    description=\"\"\"converts one name for a compound to another. input should be json in the following format: `{{\"input_name\":'<compound_name>', \"input_type\":'<name_type>', \"output_type\":'<new_name_type>'}}`\"\"\"\n",
    ")\n",
    "\n",
    "x = convert_names(input_name='Atorvastatin',input_type='Name',output_type='Canonical SMILES')\n",
    "print(f\"Atorvastatin in SMILES format is {x}\")"
   ]
  }
 ],
 "metadata": {
  "kernelspec": {
   "display_name": "Python 3 (ipykernel)",
   "language": "python",
   "name": "python3"
  },
  "language_info": {
   "codemirror_mode": {
    "name": "ipython",
    "version": 3
   },
   "file_extension": ".py",
   "mimetype": "text/x-python",
   "name": "python",
   "nbconvert_exporter": "python",
   "pygments_lexer": "ipython3",
   "version": "3.11.3"
  }
 },
 "nbformat": 4,
 "nbformat_minor": 5
}
