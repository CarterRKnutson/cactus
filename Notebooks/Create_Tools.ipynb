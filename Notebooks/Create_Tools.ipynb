{
 "cells": [
  {
   "cell_type": "code",
   "execution_count": 30,
   "id": "480052eb-9ef9-47fb-9a2f-fa1729a26264",
   "metadata": {},
   "outputs": [],
   "source": [
    "from rdkit.Chem import MolFromSmiles, MolToSmiles, Descriptors\n",
    "from rdkit.ML.Descriptors import MoleculeDescriptors\n",
    "from langchain.agents import Tool\n",
    "import pubchempy"
   ]
  },
  {
   "cell_type": "code",
   "execution_count": 32,
   "id": "25ceca1b-2c49-4359-b0c7-95bbc0ef55f0",
   "metadata": {},
   "outputs": [
    {
     "name": "stdout",
     "output_type": "stream",
     "text": [
      "Atorvastatin has 558.25 ExactMolWt and 41 HeavyAtomCount\n"
     ]
    }
   ],
   "source": [
    "def calculate_descriptors(compound: str, descriptors: list) -> list:\n",
    "    '''\n",
    "    Given a SMILES string and chosen descriptor(s),\n",
    "    return the value for each descriptor\n",
    "\n",
    "    parameters:\n",
    "        compound: a chemical compound in SMILES format\n",
    "        descriptors: a list of RDKit-compatible descriptors\n",
    "\n",
    "    returns:\n",
    "        list of computed properties\n",
    "    '''\n",
    "    calc = MoleculeDescriptors.MolecularDescriptorCalculator(descriptors)\n",
    "    mol  = MolFromSmiles(compound)\n",
    "    return list(calc.CalcDescriptors(mol)) # convert to list form\n",
    "\n",
    "Calculate_Descriptors = Tool(\n",
    "    name=\"calculate_descriptors\",\n",
    "    func=calculate_descriptors,\n",
    "    description=\"\"\"calculates chosen descriptors for a smiles. input should be json in the following format: `{{\"compound\":'<compound_smiles>', \"descriptors\":'[<descriptor_list>]'}}`\"\"\"\n",
    ")\n",
    "\n",
    "x = calculate_properties('CC(C)c1c(C(=O)Nc2ccccc2)c(-c2ccccc2)c(-c2ccc(F)cc2)n1CC[C@@H](O)C[C@@H](O)CC(=O)O',\n",
    "                         ['ExactMolWt','HeavyAtomCount'])\n",
    "print(f\"Atorvastatin has {round(x[0],2)} ExactMolWt and {round(x[1],2)} HeavyAtomCount\")"
   ]
  },
  {
   "cell_type": "code",
   "execution_count": 31,
   "id": "acc94287-d18c-4c0d-b417-50ff45f15fad",
   "metadata": {},
   "outputs": [
    {
     "name": "stdout",
     "output_type": "stream",
     "text": [
      "Atorvastatin in SMILES format is CC(C)C1=C(C(=C(N1CCC(CC(CC(=O)O)O)O)C2=CC=C(C=C2)F)C3=CC=CC=C3)C(=O)NC4=CC=CC=C4\n"
     ]
    }
   ],
   "source": [
    "def convert_names(input_name: str, input_type: str, desired_type: str) -> str:\n",
    "    '''\n",
    "    Given any compatible name (anything from pubchem lowercase and using _ for space),\n",
    "    return a different, chosen name.\n",
    "\n",
    "    parameters:\n",
    "        input_name: Any compatible name for a chemical compound\n",
    "        input_type: The type of the inputted name\n",
    "        desired_type: The type of name for the output\n",
    "\n",
    "    returns:\n",
    "        a string with the desired chemical name\n",
    "    '''\n",
    "    if input_type != 'CID': compound = pubchempy.get_compounds(input_name,input_type)[0] # get first entry\n",
    "    else: compound = pubchempy.Compound.from_cid(int(input_name)) # directly instantiate\n",
    "    return getattr(compound, desired_type) # equivalent to compound.canonical_smiles or other type\n",
    "\n",
    "Convert_Names = Tool(\n",
    "    name=\"convert_names\",\n",
    "    func=convert_names,\n",
    "    description=\"\"\"converts between the different names for a compound. input should be json in the following format: `{{\"input_name\":'<compound_name>', \"input_type\":'<name_type>', \"desired_type\":'<new_name_type>'}}`\"\"\"\n",
    ")\n",
    "\n",
    "x = convert_names(input_name='Atorvastatin',input_type='name',desired_type='canonical_smiles')\n",
    "print(f\"Atorvastatin in SMILES format is {x}\")"
   ]
  }
 ],
 "metadata": {
  "kernelspec": {
   "display_name": "Python 3 (ipykernel)",
   "language": "python",
   "name": "python3"
  },
  "language_info": {
   "codemirror_mode": {
    "name": "ipython",
    "version": 3
   },
   "file_extension": ".py",
   "mimetype": "text/x-python",
   "name": "python",
   "nbconvert_exporter": "python",
   "pygments_lexer": "ipython3",
   "version": "3.11.3"
  }
 },
 "nbformat": 4,
 "nbformat_minor": 5
}
